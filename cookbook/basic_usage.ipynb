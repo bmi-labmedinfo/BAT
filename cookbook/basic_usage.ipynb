{
 "cells": [
  {
   "cell_type": "code",
   "id": "initial_id",
   "metadata": {
    "collapsed": true,
    "ExecuteTime": {
     "end_time": "2025-01-07T17:13:09.913880Z",
     "start_time": "2025-01-07T17:11:31.808045Z"
    }
   },
   "source": [
    "from bioTextAugPackage.init import Config\n",
    "from bioTextAugPackage.augmented_sample import AugmentedSample\n",
    "\n",
    "config = Config()\n",
    "input_text = \"No lytic lesions are observed at the vertebral levels included in the scans. No signs of listhesis.\"\n",
    "aug_sample = AugmentedSample(config_params=config,\n",
    "                                   method=\"TB-back_translation\",\n",
    "                                   src_data=input_text,\n",
    "                                   src_lang=\"english\",\n",
    "                                   n_synth_data=1)\n",
    "aug_sample.run()"
   ],
   "outputs": [
    {
     "name": "stderr",
     "output_type": "stream",
     "text": [
      "/home/tommaso/virtualenvs/bat/lib/python3.10/site-packages/tqdm/auto.py:21: TqdmWarning: IProgress not found. Please update jupyter and ipywidgets. See https://ipywidgets.readthedocs.io/en/stable/user_install.html\n",
      "  from .autonotebook import tqdm as notebook_tqdm\n",
      "Intermediate languages translation:   0%|          | 0/1 [00:00<?, ?it/s]\n",
      "Processing of sub-phrases:   0%|          | 0/1 [00:00<?, ?it/s]\u001B[A\n",
      "Processing of sub-phrases: 100%|██████████| 1/1 [00:00<00:00,  2.37it/s]\u001B[A\n",
      "Intermediate languages translation: 100%|██████████| 1/1 [00:30<00:00, 30.48s/it]\n",
      "Computing metrics: 100%|██████████| 1/1 [01:05<00:00, 65.43s/it]\n"
     ]
    },
    {
     "data": {
      "text/plain": [
       "                          tag  \\\n",
       "0  TB-back_translation-german   \n",
       "\n",
       "                                            src_data  \\\n",
       "0  No lytic lesions are observed at the vertebral...   \n",
       "\n",
       "                                          synth_data  overlap_score  \\\n",
       "0  No lytic lesions are observed at the vertebral...           0.78   \n",
       "\n",
       "   similarity_score  \n",
       "0              0.95  "
      ],
      "text/html": [
       "<div>\n",
       "<style scoped>\n",
       "    .dataframe tbody tr th:only-of-type {\n",
       "        vertical-align: middle;\n",
       "    }\n",
       "\n",
       "    .dataframe tbody tr th {\n",
       "        vertical-align: top;\n",
       "    }\n",
       "\n",
       "    .dataframe thead th {\n",
       "        text-align: right;\n",
       "    }\n",
       "</style>\n",
       "<table border=\"1\" class=\"dataframe\">\n",
       "  <thead>\n",
       "    <tr style=\"text-align: right;\">\n",
       "      <th></th>\n",
       "      <th>tag</th>\n",
       "      <th>src_data</th>\n",
       "      <th>synth_data</th>\n",
       "      <th>overlap_score</th>\n",
       "      <th>similarity_score</th>\n",
       "    </tr>\n",
       "  </thead>\n",
       "  <tbody>\n",
       "    <tr>\n",
       "      <th>0</th>\n",
       "      <td>TB-back_translation-german</td>\n",
       "      <td>No lytic lesions are observed at the vertebral...</td>\n",
       "      <td>No lytic lesions are observed at the vertebral...</td>\n",
       "      <td>0.78</td>\n",
       "      <td>0.95</td>\n",
       "    </tr>\n",
       "  </tbody>\n",
       "</table>\n",
       "</div>"
      ]
     },
     "execution_count": 1,
     "metadata": {},
     "output_type": "execute_result"
    }
   ],
   "execution_count": 1
  }
 ],
 "metadata": {
  "kernelspec": {
   "display_name": "Python 3",
   "language": "python",
   "name": "python3"
  },
  "language_info": {
   "codemirror_mode": {
    "name": "ipython",
    "version": 2
   },
   "file_extension": ".py",
   "mimetype": "text/x-python",
   "name": "python",
   "nbconvert_exporter": "python",
   "pygments_lexer": "ipython2",
   "version": "2.7.6"
  }
 },
 "nbformat": 4,
 "nbformat_minor": 5
}
